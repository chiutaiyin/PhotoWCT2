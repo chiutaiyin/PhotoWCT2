{
 "cells": [
  {
   "cell_type": "code",
   "execution_count": 1,
   "metadata": {},
   "outputs": [],
   "source": [
    "import numpy as np\n",
    "import tensorflow as tf\n",
    "from utils.model_conv import VggDecoder, VggEncoder\n",
    "import matplotlib.pyplot as plt\n",
    "import os, time\n",
    "from PIL import Image\n",
    "import cv2\n",
    "from tqdm import tqdm\n",
    "from utils.photo_gif import GIFSmoothing\n",
    "os.environ[\"CUDA_VISIBLE_DEVICES\"]=\"0\"\n",
    "os.environ['TF_FORCE_GPU_ALLOW_GROWTH'] = \"true\""
   ]
  },
  {
   "cell_type": "code",
   "execution_count": 2,
   "metadata": {},
   "outputs": [],
   "source": [
    "class VggEncDec(tf.keras.Model):\n",
    "    def __init__(self):\n",
    "        super(VggEncDec, self).__init__()\n",
    "        self.encoder = VggEncoder()\n",
    "        self.decoder = VggDecoder()\n",
    "        self.encoder.load_weights('ckpts/ckpts-conv/encoder')\n",
    "        self.decoder.load_weights('ckpts/ckpts-conv/decoder')\n",
    "    \n",
    "    def call(self):\n",
    "        return"
   ]
  },
  {
   "cell_type": "code",
   "execution_count": 3,
   "metadata": {},
   "outputs": [
    {
     "name": "stdout",
     "output_type": "stream",
     "text": [
      "Reached target layer: conv4_1\n"
     ]
    }
   ],
   "source": [
    "enc_dec = VggEncDec()\n",
    "p_pro = GIFSmoothing(r=50, eps=(0.02 * 255) ** 2)"
   ]
  },
  {
   "cell_type": "code",
   "execution_count": 4,
   "metadata": {},
   "outputs": [],
   "source": [
    "def load_img(file):\n",
    "    img = np.asarray(Image.open(file), dtype=np.float32)\n",
    "    img = np.expand_dims(cv2.resize(img, (img.shape[1] // 8 * 8, img.shape[0] // 8 * 8)), axis=0) / 255\n",
    "    return img\n",
    "\n",
    "def inv_sqrt_cov(cov, inverse=False):\n",
    "    s, u, _ = tf.linalg.svd(cov + tf.eye(cov.shape[-1])) \n",
    "    n_s = tf.reduce_sum(tf.cast(tf.greater(s, 1e-5), tf.int32))\n",
    "    s = tf.sqrt(s[:,:n_s])\n",
    "    if inverse:\n",
    "        s = 1 / s\n",
    "    d = tf.linalg.diag(s)\n",
    "    u = u[:,:,:n_s]\n",
    "    return tf.matmul(u, tf.matmul(d, u, adjoint_b=True))\n",
    "\n",
    "def stylize_core(c_feat, s_feat, opt='zca'):\n",
    "    n_batch, cont_h, cont_w, n_channel = c_feat.shape\n",
    "    _c_feat = tf.reshape(tf.transpose(c_feat, [0, 3, 1, 2]), [n_batch, n_channel, -1])\n",
    "    if opt == 'zca':\n",
    "        c_feat = stylize_zca(_c_feat, s_feat) \n",
    "    elif opt == 'ot':\n",
    "        c_feat = stylize_ot(_c_feat, s_feat) \n",
    "    elif opt == 'adain':\n",
    "        c_feat = stylize_adain(_c_feat, s_feat)  \n",
    "\n",
    "    c_feat = tf.transpose(tf.reshape(c_feat, [n_batch, n_channel, cont_h, cont_w]), [0, 2, 3, 1])\n",
    "    return c_feat\n",
    "\n",
    "def stylize_adain(c_feat, s_feat):\n",
    "    m_c = tf.reduce_mean(c_feat, axis=-1, keepdims=True)\n",
    "    m_s = tf.reduce_mean(s_feat, axis=-1, keepdims=True) \n",
    "    c_feat = c_feat - m_c\n",
    "    s_feat = s_feat - m_s \n",
    "    s_c = tf.sqrt(tf.reduce_mean(c_feat * c_feat, axis=-1, keepdims=True) + 1e-8)\n",
    "    s_s = tf.sqrt(tf.reduce_mean(s_feat * s_feat, axis=-1, keepdims=True) + 1e-8) \n",
    "    white_c_feat = c_feat / s_c\n",
    "    feat = white_c_feat * s_s + m_s     \n",
    "    return feat\n",
    "\n",
    "def stylize_zca(c_feat, s_feat): \n",
    "    m_c = tf.reduce_mean(c_feat, axis=-1, keepdims=True)\n",
    "    m_s = tf.reduce_mean(s_feat, axis=-1, keepdims=True) \n",
    "    c_feat = c_feat - m_c\n",
    "    s_feat = s_feat - m_s\n",
    "    c_cov = tf.matmul(c_feat, c_feat, transpose_b=True) / c_feat.shape[-1]\n",
    "    s_cov = tf.matmul(s_feat, s_feat, transpose_b=True) / s_feat.shape[-1] \n",
    "    inv_sqrt_c_cov = inv_sqrt_cov(c_cov, True)\n",
    "    opt = tf.matmul(inv_sqrt_cov(s_cov), inv_sqrt_c_cov) \n",
    "    feat = tf.matmul(opt, c_feat) + m_s \n",
    "    return feat\n",
    "\n",
    "def stylize_ot(c_feat, s_feat):\n",
    "    m_c = tf.reduce_mean(c_feat, axis=-1, keepdims=True)\n",
    "    m_s = tf.reduce_mean(s_feat, axis=-1, keepdims=True) \n",
    "    c_feat = c_feat - m_c\n",
    "    s_feat = s_feat - m_s \n",
    "    c_cov = tf.matmul(c_feat, c_feat, transpose_b=True) / c_feat.shape[-1]\n",
    "    s_cov = tf.matmul(s_feat, s_feat, transpose_b=True) / s_feat.shape[-1] \n",
    "    sqrt_c_cov = inv_sqrt_cov(c_cov)\n",
    "    inv_sqrt_c_cov = inv_sqrt_cov(c_cov, True)\n",
    "    opt = inv_sqrt_cov(tf.matmul(sqrt_c_cov, tf.matmul(s_cov, sqrt_c_cov))) \n",
    "    opt = tf.matmul(inv_sqrt_c_cov, tf.matmul(opt, inv_sqrt_c_cov))\n",
    "    feat = tf.matmul(opt, c_feat) + m_s \n",
    "    return feat\n"
   ]
  },
  {
   "cell_type": "code",
   "execution_count": 5,
   "metadata": {
    "scrolled": true
   },
   "outputs": [
    {
     "name": "stderr",
     "output_type": "stream",
     "text": [
      "100%|██████████| 5/5 [00:12<00:00,  2.41s/it]\n"
     ]
    }
   ],
   "source": [
    "for n in tqdm(range(5)):\n",
    "    cont_img = load_img(f'figures/content/{n}.jpeg')\n",
    "    style_img = load_img(f'figures/style/{n}.jpeg')\n",
    "    \n",
    "    opt = 'zca'\n",
    "\n",
    "    x1 = enc_dec.encoder(0, style_img)\n",
    "    x2 = enc_dec.encoder(1, x1)\n",
    "    x3 = enc_dec.encoder(2, x2[0])\n",
    "    x4 = enc_dec.encoder(3, x3[0])\n",
    "\n",
    "    y1 = enc_dec.encoder(0, cont_img)\n",
    "    y2 = enc_dec.encoder(1, y1)\n",
    "    y3 = enc_dec.encoder(2, y2[0])\n",
    "    y4 = enc_dec.encoder(3, y3[0])\n",
    "\n",
    "    sfeat = tf.reshape(tf.transpose(x4[0], [0, 3, 1, 2]), [x4[0].shape[0], x4[0].shape[-1], -1])\n",
    "    x = stylize_core(y4[0], sfeat, opt=opt)\n",
    "    x = enc_dec.decoder(3, x, skip=y4[1])\n",
    "\n",
    "    sfeat = tf.reshape(tf.transpose(x3[0], [0, 3, 1, 2]), [x3[0].shape[0], x3[0].shape[-1], -1])\n",
    "    x = stylize_core(x, sfeat, opt=opt)\n",
    "    x = enc_dec.decoder(2, x, skip=y3[1])\n",
    "\n",
    "    sfeat = tf.reshape(tf.transpose(x2[0], [0, 3, 1, 2]), [x2[0].shape[0], x2[0].shape[-1], -1])\n",
    "    x = stylize_core(x, sfeat, opt=opt)\n",
    "    x = enc_dec.decoder(1, x, skip=y2[1])\n",
    "\n",
    "    sfeat = tf.reshape(tf.transpose(x1, [0, 3, 1, 2]), [x1.shape[0], x1.shape[-1], -1])\n",
    "    x = stylize_core(x, sfeat, opt=opt)\n",
    "    x = tf.clip_by_value(enc_dec.decoder(0, x, skip=None), 0, 1)\n",
    "\n",
    "    if not os.path.exists('results/conv'):\n",
    "        os.makedirs('results/conv')\n",
    "    p_pro.process(x[0], f'figures/content/{n}.jpeg').save(f'results/conv/{n}.jpg')\n",
    "    \n",
    "\n",
    "\n"
   ]
  },
  {
   "cell_type": "code",
   "execution_count": null,
   "metadata": {},
   "outputs": [],
   "source": []
  }
 ],
 "metadata": {
  "kernelspec": {
   "display_name": "chiu.taiyin",
   "language": "python",
   "name": "chiu.taiyin"
  },
  "language_info": {
   "codemirror_mode": {
    "name": "ipython",
    "version": 3
   },
   "file_extension": ".py",
   "mimetype": "text/x-python",
   "name": "python",
   "nbconvert_exporter": "python",
   "pygments_lexer": "ipython3",
   "version": "3.7.4"
  }
 },
 "nbformat": 4,
 "nbformat_minor": 2
}
